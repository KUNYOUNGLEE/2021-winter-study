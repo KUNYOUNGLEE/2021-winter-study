{
 "cells": [
  {
   "cell_type": "code",
   "execution_count": 2,
   "metadata": {},
   "outputs": [],
   "source": [
    "import torch\n",
    "import torch.nn as nn\n",
    "import torchvision.datasets as dsets\n",
    "import torchvision.transforms as transforms\n",
    "from tensorboardX import SummaryWriter\n",
    "\n",
    "# GPU 자원 사용확인\n",
    "devices_id = torch.device(\"cuda:0\" if torch.cuda.is_available() else \"cpu\")\n",
    "torch.cuda.set_device(\n",
    "    devices_id\n",
    ")  # fix bug for `ERROR: all tensors must be on devices[0]`\n",
    "\n",
    "# Create Tensorboard SummaryWriter instance\n",
    "writer = SummaryWriter('./summary')\n",
    "%load_ext tensorboard\n",
    "\n",
    "# Step 1. Load Dataset\n",
    "train_dataset = dsets.MNIST(\n",
    "    root=\"../data\", train=True, transform=transforms.ToTensor(), download=False\n",
    ")\n",
    "test_dataset = dsets.MNIST(\n",
    "    root=\"../data\", train=False, transform=transforms.ToTensor(), download=False\n",
    ")\n",
    "\n",
    "# Step 2. Make Dataset Iterable\n",
    "batch_size = 100\n",
    "train_loader = torch.utils.data.DataLoader(\n",
    "    dataset=train_dataset, batch_size=batch_size, shuffle=True\n",
    ")\n",
    "test_loader = torch.utils.data.DataLoader(\n",
    "    dataset=test_dataset, batch_size=batch_size, shuffle=False\n",
    ")"
   ]
  },
  {
   "cell_type": "code",
   "execution_count": 3,
   "metadata": {},
   "outputs": [],
   "source": [
    "# Step 3. Create Model Class\n",
    "class LogisticRegression(torch.nn.Module):\n",
    "    def __init__(self, input_dim, output_dim):\n",
    "        super(LogisticRegression, self).__init__()\n",
    "        self.linear1 = torch.nn.Linear(input_dim, 300)\n",
    "        self.linear2 = torch.nn.Linear(300, int(input_dim / 4))  # 392x196\n",
    "        self.linear3 = torch.nn.Linear(int(input_dim / 4), output_dim)  # 196x10\n",
    "\n",
    "    def forward(self, x):\n",
    "        outputs = self.linear1(x)\n",
    "        outputs = self.linear2(outputs)\n",
    "        outputs = self.linear3(outputs)\n",
    "        return outputs"
   ]
  },
  {
   "cell_type": "code",
   "execution_count": 4,
   "metadata": {
    "tags": []
   },
   "outputs": [],
   "source": [
    "epochs = 10\n",
    "input_dim = 784\n",
    "output_dim = 10\n",
    "# [test] 만일 MSE을 LOSS 함수로 쓴다면???\n",
    "# output_dim = 1\n",
    "lr_rate = 0.01\n",
    "\n",
    "# Step 4. Instantiate Model Class\n",
    "model = LogisticRegression(input_dim, output_dim)\n",
    "if devices_id == type([]):  # -> GPU\n",
    "    model = nn.DataParallel(model, device_ids=devices_id).cuda()\n",
    "else:\n",
    "    model = nn.DataParallel(model, device_ids=[devices_id]).cuda()\n",
    "\n",
    "# Step 5. Instantiate Loss Class\n",
    "criterion = torch.nn.CrossEntropyLoss()  # computes softmax and then the cross entropy\n",
    "# Step 6. Instantiate Optimizer Class\n",
    "optimizer = torch.optim.SGD(model.parameters(), lr=lr_rate)"
   ]
  },
  {
   "cell_type": "code",
   "execution_count": 5,
   "metadata": {},
   "outputs": [
    {
     "output_type": "stream",
     "name": "stdout",
     "text": [
      "[Epoch 0] [Iteration: 199/600] [Loss: 1.787] [Accuracy: 72.57]\n",
      "[Epoch 0] [Iteration: 399/600] [Loss: 0.947] [Accuracy: 77.28]\n",
      "[Epoch 0] [Iteration: 599/600] [Loss: 0.688] [Accuracy: 82.58]\n",
      "[Epoch 1] [Iteration: 199/600] [Loss: 0.565] [Accuracy: 85.46]\n",
      "[Epoch 1] [Iteration: 399/600] [Loss: 0.619] [Accuracy: 86.88]\n",
      "[Epoch 1] [Iteration: 599/600] [Loss: 0.374] [Accuracy: 87.97]\n",
      "[Epoch 2] [Iteration: 199/600] [Loss: 0.353] [Accuracy: 88.69]\n",
      "[Epoch 2] [Iteration: 399/600] [Loss: 0.436] [Accuracy: 89.20]\n",
      "[Epoch 2] [Iteration: 599/600] [Loss: 0.496] [Accuracy: 89.53]\n",
      "[Epoch 3] [Iteration: 199/600] [Loss: 0.569] [Accuracy: 89.67]\n",
      "[Epoch 3] [Iteration: 399/600] [Loss: 0.403] [Accuracy: 89.92]\n",
      "[Epoch 3] [Iteration: 599/600] [Loss: 0.251] [Accuracy: 90.17]\n",
      "[Epoch 4] [Iteration: 199/600] [Loss: 0.278] [Accuracy: 90.23]\n",
      "[Epoch 4] [Iteration: 399/600] [Loss: 0.363] [Accuracy: 90.43]\n",
      "[Epoch 4] [Iteration: 599/600] [Loss: 0.300] [Accuracy: 90.70]\n",
      "[Epoch 5] [Iteration: 199/600] [Loss: 0.293] [Accuracy: 90.82]\n",
      "[Epoch 5] [Iteration: 399/600] [Loss: 0.296] [Accuracy: 90.93]\n",
      "[Epoch 5] [Iteration: 599/600] [Loss: 0.334] [Accuracy: 91.02]\n",
      "[Epoch 6] [Iteration: 199/600] [Loss: 0.202] [Accuracy: 91.18]\n",
      "[Epoch 6] [Iteration: 399/600] [Loss: 0.266] [Accuracy: 91.21]\n",
      "[Epoch 6] [Iteration: 599/600] [Loss: 0.204] [Accuracy: 91.24]\n",
      "[Epoch 7] [Iteration: 199/600] [Loss: 0.397] [Accuracy: 91.38]\n",
      "[Epoch 7] [Iteration: 399/600] [Loss: 0.291] [Accuracy: 91.49]\n",
      "[Epoch 7] [Iteration: 599/600] [Loss: 0.292] [Accuracy: 91.36]\n",
      "[Epoch 8] [Iteration: 199/600] [Loss: 0.351] [Accuracy: 91.54]\n",
      "[Epoch 8] [Iteration: 399/600] [Loss: 0.397] [Accuracy: 91.66]\n",
      "[Epoch 8] [Iteration: 599/600] [Loss: 0.305] [Accuracy: 91.68]\n",
      "[Epoch 9] [Iteration: 199/600] [Loss: 0.278] [Accuracy: 91.71]\n",
      "[Epoch 9] [Iteration: 399/600] [Loss: 0.283] [Accuracy: 91.64]\n",
      "[Epoch 9] [Iteration: 599/600] [Loss: 0.411] [Accuracy: 91.87]\n"
     ]
    }
   ],
   "source": [
    "# Step 7. Train Model\n",
    "\n",
    "for epoch in range(int(epochs)):\n",
    "    iter = 0\n",
    "    for i, (images, labels) in enumerate(train_loader):\n",
    "        images = images.view(-1, 28 * 28)\n",
    "        labels = labels\n",
    "\n",
    "        images = images.to(devices_id)\n",
    "        labels = labels.to(devices_id)\n",
    "\n",
    "        optimizer.zero_grad()\n",
    "        outputs = model(images)\n",
    "        # [test] 만일 MSE을 LOSS 함수로 쓴다면???\n",
    "        # labels = labels.type(torch.FloatTensor)\n",
    "        # outputs = outputs.type(torch.FloatTensor)\n",
    "        loss = criterion(outputs, labels)\n",
    "        loss.backward()\n",
    "        optimizer.step()\n",
    "        writer.add_scalar('Train/Loss', loss, epoch)\n",
    "\n",
    "        iter += 1\n",
    "        if iter % 200 == 0:\n",
    "            # calculate Accuracy\n",
    "            correct = 0\n",
    "            total = 0\n",
    "            for images, labels in test_loader:\n",
    "                images = images.view(-1, 28 * 28)\n",
    "                images = images.to(devices_id)\n",
    "                outputs = model(images)\n",
    "                _, predicted = torch.max(outputs.data, 1)\n",
    "                total += labels.size(0)\n",
    "                # for gpu, bring the predicted and labels back to cpu fro python operations to work\n",
    "                predicted = predicted.cpu()\n",
    "                correct += (predicted == labels).sum()\n",
    "            accuracy = 100 * correct / total\n",
    "            print(\n",
    "                f\"[Epoch {epoch}] [Iteration: {i}/{len(train_loader)}] [Loss: {loss.item():.3f}] [Accuracy: {accuracy:.2f}]\"\n",
    "            )"
   ]
  },
  {
   "cell_type": "code",
   "execution_count": 7,
   "metadata": {},
   "outputs": [
    {
     "output_type": "display_data",
     "data": {
      "text/plain": "<IPython.core.display.HTML object>",
      "text/html": "\n<!-- JUPYTER_TENSORBOARD_TEST_MARKER -->\n<script>\n    fetch(Jupyter.notebook.base_url + 'api/tensorboard', {\n        method: 'POST',\n        contentType: 'application/json',\n        body: JSON.stringify({ 'logdir': './runs/' }),\n        headers: { 'Content-Type': 'application/json' }\n    })\n        .then(res => res.json())\n        .then(res => {\n            const iframe = document.getElementById('tensorboard-4897adbb-dc91-4835-aed6-1cb140f40feb');\n            iframe.src = Jupyter.notebook.base_url + 'tensorboard/' + res.name;\n            iframe.style.display = 'block';\n        });\n</script>\n<iframe\n    id=\"tensorboard-4897adbb-dc91-4835-aed6-1cb140f40feb\"\n    style=\"width: 100%; height: 620px; display: none;\"\n    frameBorder=\"0\">\n</iframe>\n"
     },
     "metadata": {}
    }
   ],
   "source": [
    "%tensorboard --logdir=./runs/"
   ]
  }
 ],
 "metadata": {
  "kernelspec": {
   "display_name": "Python 3",
   "language": "python",
   "name": "python3"
  },
  "language_info": {
   "codemirror_mode": {
    "name": "ipython",
    "version": 3
   },
   "file_extension": ".py",
   "mimetype": "text/x-python",
   "name": "python",
   "nbconvert_exporter": "python",
   "pygments_lexer": "ipython3",
   "version": "3.8.5-final"
  }
 },
 "nbformat": 4,
 "nbformat_minor": 4
}