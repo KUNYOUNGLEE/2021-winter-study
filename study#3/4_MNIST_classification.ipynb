{
 "metadata": {
  "language_info": {
   "codemirror_mode": {
    "name": "ipython",
    "version": 3
   },
   "file_extension": ".py",
   "mimetype": "text/x-python",
   "name": "python",
   "nbconvert_exporter": "python",
   "pygments_lexer": "ipython3",
   "version": "3.8.5-final"
  },
  "orig_nbformat": 2,
  "kernelspec": {
   "name": "python3",
   "display_name": "Python 3",
   "language": "python"
  }
 },
 "nbformat": 4,
 "nbformat_minor": 2,
 "cells": [
  {
   "cell_type": "code",
   "execution_count": 1,
   "metadata": {},
   "outputs": [],
   "source": [
    "import torch\n",
    "from torch.autograd import Variable\n",
    "import torchvision.transforms as transforms\n",
    "import torchvision.datasets as dsets\n",
    "\n",
    "# Step 1. Load Dataset\n",
    "train_dataset = dsets.MNIST(root='./data', train=True, transform=transforms.ToTensor(), download=False)\n",
    "test_dataset = dsets.MNIST(root='./data', train=False, transform=transforms.ToTensor(), download=False)\n",
    "\n",
    "# Step 2. Make Dataset Iterable\n",
    "batch_size = 100\n",
    "train_loader = torch.utils.data.DataLoader(dataset=train_dataset, batch_size=batch_size, shuffle=True)\n",
    "test_loader = torch.utils.data.DataLoader(dataset=test_dataset, batch_size=batch_size, shuffle=False)"
   ]
  },
  {
   "cell_type": "code",
   "execution_count": 2,
   "metadata": {},
   "outputs": [],
   "source": [
    "# Step 3. Create Model Class\n",
    "class LogisticRegression(torch.nn.Module):\n",
    "    def __init__(self, input_dim, output_dim):\n",
    "        super(LogisticRegression, self).__init__()\n",
    "        self.linear = torch.nn.Linear(input_dim, output_dim)\n",
    "\n",
    "    def forward(self, x):\n",
    "        outputs = self.linear(x)\n",
    "        return outputs"
   ]
  },
  {
   "cell_type": "code",
   "execution_count": 3,
   "metadata": {
    "tags": []
   },
   "outputs": [],
   "source": [
    "epochs = 2\n",
    "input_dim = 784\n",
    "output_dim = 10\n",
    "# [test] 만일 MSE을 LOSS 함수로 쓴다면???\n",
    "# output_dim = 1\n",
    "lr_rate = 0.01\n",
    "\n",
    "# Step 4. Instantiate Model Class\n",
    "model = LogisticRegression(input_dim, output_dim)\n",
    "# Step 5. Instantiate Loss Class\n",
    "criterion = torch.nn.CrossEntropyLoss() # computes softmax and then the cross entropy\n",
    "# [test] 만일 MSE을 LOSS 함수로 쓴다면???\n",
    "# criterion = torch.nn.MSELoss()\n",
    "# Step 6. Instantiate Optimizer Class\n",
    "optimizer = torch.optim.SGD(model.parameters(), lr=lr_rate)"
   ]
  },
  {
   "cell_type": "code",
   "execution_count": 4,
   "metadata": {},
   "outputs": [
    {
     "output_type": "stream",
     "name": "stdout",
     "text": [
      "Iteration: 100. Loss: 1.5278689861297607. Accuracy: 75.83000183105469.\n",
      "Iteration: 200. Loss: 1.1347965002059937. Accuracy: 81.0999984741211.\n",
      "Iteration: 300. Loss: 1.0471291542053223. Accuracy: 82.70999908447266.\n",
      "Iteration: 400. Loss: 0.9169452786445618. Accuracy: 83.91000366210938.\n",
      "Iteration: 500. Loss: 0.8972954750061035. Accuracy: 85.0199966430664.\n",
      "Iteration: 600. Loss: 0.9665325284004211. Accuracy: 85.41999816894531.\n",
      "Iteration: 700. Loss: 0.6086663007736206. Accuracy: 86.05000305175781.\n",
      "Iteration: 800. Loss: 0.6255840063095093. Accuracy: 86.37000274658203.\n",
      "Iteration: 900. Loss: 0.602271318435669. Accuracy: 86.9000015258789.\n",
      "Iteration: 1000. Loss: 0.6010639071464539. Accuracy: 86.95999908447266.\n",
      "Iteration: 1100. Loss: 0.6313837170600891. Accuracy: 87.20999908447266.\n",
      "Iteration: 1200. Loss: 0.6083102822303772. Accuracy: 87.51000213623047.\n"
     ]
    }
   ],
   "source": [
    "# Step 7. Train Model\n",
    "iter = 0\n",
    "for epoch in range(int(epochs)):\n",
    "    for i, (images, labels) in enumerate(train_loader):\n",
    "        images = Variable(images.view(-1, 28 * 28))\n",
    "        labels = Variable(labels)\n",
    "\n",
    "        optimizer.zero_grad()\n",
    "        outputs = model(images)\n",
    "        # [test] 만일 MSE을 LOSS 함수로 쓴다면???\n",
    "        # labels = labels.type(torch.FloatTensor)\n",
    "        # outputs = outputs.type(torch.FloatTensor)\n",
    "        loss = criterion(outputs, labels)\n",
    "        loss.backward()\n",
    "        optimizer.step()\n",
    "\n",
    "        iter+=1\n",
    "        if iter%100==0:\n",
    "            # calculate Accuracy\n",
    "            correct = 0\n",
    "            total = 0\n",
    "            for images, labels in test_loader:\n",
    "                images = Variable(images.view(-1, 28*28))\n",
    "                outputs = model(images)\n",
    "                _, predicted = torch.max(outputs.data, 1)\n",
    "                total+= labels.size(0)\n",
    "                # for gpu, bring the predicted and labels back to cpu fro python operations to work\n",
    "                correct+= (predicted == labels).sum()\n",
    "            accuracy = 100 * correct/total\n",
    "            print(\"Iteration: {}. Loss: {}. Accuracy: {}.\".format(iter, loss.item(), accuracy))"
   ]
  }
 ]
}